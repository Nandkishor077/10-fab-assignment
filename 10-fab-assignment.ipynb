{
 "cells": [
  {
   "cell_type": "raw",
   "id": "2f58a455-0d8a-4ab1-bbca-6212ac912d41",
   "metadata": {},
   "source": [
    "Q1. Which function is used to open a file? What are the different modes of opening a file? Explain each mode\n",
    "of file opening."
   ]
  },
  {
   "cell_type": "raw",
   "id": "10efafb6-70df-4db4-a1af-f035316a47df",
   "metadata": {},
   "source": [
    "Ans. open() function is used to open a file in python.\n",
    "different modes of openinng a file are-\n",
    "‘r’\t    Open text file for reading. Raises an I/O error if the file does not exist.\n",
    "‘r+’\tOpen the file for reading and writing. Raises an I/O error if the file does not exist.\n",
    "‘w’\t    Open the file for writing. Truncates the file if it already exists. Creates a new file if it does not exist.\n",
    "‘w+’\tOpen the file for reading and writing. Truncates the file if it already exists. Creates a new file if it does not exist.\n",
    "‘a’\t    Open the file for writing. The data being written will be inserted at the end of the file. Creates a new file if it does not exist.\n",
    "‘a+’\tOpen the file for reading and writing. The data being written will be inserted at the end of the file. Creates a new file if it does not               exist.\n",
    "‘rb’\tOpen the file for reading in binary format. Raises an I/O error if the file does not exist.\n",
    "‘rb+’\tOpen the file for reading and writing in binary format. Raises an I/O error if the file does not exist.\n",
    "‘wb’\tOpen the file for writing in binary format. Truncates the file if it already exists. Creates a new file if it does not exist.\n",
    "‘wb+’\tOpen the file for reading and writing in binary format. Truncates the file if it already exists. Creates a new file if it does not exist.\n",
    "‘ab’\tOpen the file for appending in binary format. Inserts data at the end of the file. Creates a new file if it does not exist.\n",
    "‘ab+’\tOpen the file for reading and appending in binary format. Inserts data at the end of the file. Creates a new file if it does not exist."
   ]
  },
  {
   "cell_type": "raw",
   "id": "35ba0b72-c47d-41b6-87c2-c255ccdf7c0c",
   "metadata": {},
   "source": [
    "Q2. Why close() function is used? Why is it important to close a file?"
   ]
  },
  {
   "cell_type": "raw",
   "id": "6ab99bea-e798-4244-867b-281b7e81e055",
   "metadata": {},
   "source": [
    "Ans. The close() function is used to closes an open file.You should always close your files, in some cases, due to buffering, changes made to a file may not show until you close the file."
   ]
  },
  {
   "cell_type": "raw",
   "id": "0c22bf73-8d33-4b06-9cda-80c68b06f7e3",
   "metadata": {},
   "source": [
    "Q3. Write a python program to create a text file. Write ‘I want to become a Data Scientist’ in that file. Then\n",
    "close the file. Open this file and read the content of the file."
   ]
  },
  {
   "cell_type": "code",
   "execution_count": 8,
   "id": "b56831ee-7531-4787-b8ef-1643a7af951e",
   "metadata": {},
   "outputs": [
    {
     "name": "stdout",
     "output_type": "stream",
     "text": [
      "I want to become a Data scientist\n"
     ]
    }
   ],
   "source": [
    "f = open(\"demo.text\",\"w\")\n",
    "str= \"I want to become a Data scientist\"\n",
    "f.write(str)\n",
    "f.close()\n",
    "\n",
    "f= open(\"demo.text\",'r')\n",
    "print(f.read())\n",
    "f.close()"
   ]
  },
  {
   "cell_type": "raw",
   "id": "82450e6d-4abf-4a4e-8133-0658ed759930",
   "metadata": {},
   "source": [
    "Q4. Explain the following with python code: read(), readline() and readlines()."
   ]
  },
  {
   "cell_type": "raw",
   "id": "5bdd5276-43ab-4e8d-a60f-731d98c52a14",
   "metadata": {},
   "source": [
    "Ans. \n",
    "read() : Returns the read bytes in form of a string. Reads n bytes, if no n specified, reads the entire file.\n",
    "readline() : Reads a line of the file and returns in form of a string.For specified n, reads at most n bytes. However, does not reads more than one line, even if n exceeds the length of the line.\n",
    "readlines() : Reads all the lines and return them as each line a string element in a list."
   ]
  },
  {
   "cell_type": "raw",
   "id": "0a532424-a03a-4464-8606-319ef90ddbc7",
   "metadata": {},
   "source": [
    "Q5. Explain why with statement is used with open(). What is the advantage of using with statement and\n",
    "open() together?"
   ]
  },
  {
   "cell_type": "raw",
   "id": "dd136a8a-3e7f-4c98-9cb4-71be89f0287d",
   "metadata": {},
   "source": [
    "Ans.with statement in Python is used in exception handling to make the code cleaner and much more readable. It simplifies the management of common resources like file streams, there is no need to call file.close() when using with statement. The with statement itself ensures proper acquisition and release of resources. "
   ]
  },
  {
   "cell_type": "raw",
   "id": "54728691-e04e-42e8-85b2-595227d23bc3",
   "metadata": {},
   "source": [
    "Q6. Explain the write() and writelines() functions. Give a suitable example."
   ]
  },
  {
   "cell_type": "raw",
   "id": "00fdb2d8-59b9-4617-8428-2e3dcbf9dd17",
   "metadata": {},
   "source": [
    "Ans.\n",
    "write() : Inserts the string in a single line in the text file.\n",
    "writelines() : For a list of string elements, each string is inserted in the text file. Used to insert multiple strings at a single time."
   ]
  },
  {
   "cell_type": "code",
   "execution_count": 9,
   "id": "9e1f215d-d40f-465c-9861-689f3a2a3c9e",
   "metadata": {},
   "outputs": [
    {
     "name": "stdout",
     "output_type": "stream",
     "text": [
      "Hello\n",
      "This is Delhi \n",
      "This is Paris \n",
      "This is London \n",
      "\n"
     ]
    }
   ],
   "source": [
    "file1 = open('myfile.txt', 'w')\n",
    "L = [\"This is Delhi \\n\", \"This is Paris \\n\", \"This is London \\n\"]\n",
    "s = \"Hello\\n\"\n",
    " \n",
    "\n",
    "file1.write(s)\n",
    " \n",
    "file1.writelines(L)\n",
    " \n",
    "file1.close()\n",
    " \n",
    "file1 = open('myfile.txt', 'r')\n",
    "print(file1.read())\n",
    "file1.close()"
   ]
  },
  {
   "cell_type": "code",
   "execution_count": null,
   "id": "c2f6a070-a8e6-4492-8fef-76b172ad8b75",
   "metadata": {},
   "outputs": [],
   "source": []
  }
 ],
 "metadata": {
  "kernelspec": {
   "display_name": "Python 3 (ipykernel)",
   "language": "python",
   "name": "python3"
  },
  "language_info": {
   "codemirror_mode": {
    "name": "ipython",
    "version": 3
   },
   "file_extension": ".py",
   "mimetype": "text/x-python",
   "name": "python",
   "nbconvert_exporter": "python",
   "pygments_lexer": "ipython3",
   "version": "3.10.8"
  }
 },
 "nbformat": 4,
 "nbformat_minor": 5
}
